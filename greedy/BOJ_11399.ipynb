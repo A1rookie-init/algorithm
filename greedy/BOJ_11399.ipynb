{
  "nbformat": 4,
  "nbformat_minor": 0,
  "metadata": {
    "colab": {
      "provenance": []
    },
    "kernelspec": {
      "name": "python3",
      "display_name": "Python 3"
    },
    "language_info": {
      "name": "python"
    }
  },
  "cells": [
    {
      "cell_type": "code",
      "execution_count": null,
      "metadata": {
        "colab": {
          "base_uri": "https://localhost:8080/"
        },
        "id": "8ERUxy-_aWHQ",
        "outputId": "20310258-5380-4eed-b551-c012eecedbc3"
      },
      "outputs": [
        {
          "output_type": "stream",
          "name": "stdout",
          "text": [
            "5\n",
            "3 1 4 3 2\n",
            "32\n"
          ]
        }
      ],
      "source": [
        "# 정답 40ms, O(n)\n",
        "\n",
        "int(input())\n",
        "a = sorted(map(int, input().split()))\n",
        "\n",
        "total = 0\n",
        "sum = 0\n",
        "\n",
        "for i in a:\n",
        "  sum += i\n",
        "  total += sum\n",
        "print(total)"
      ]
    },
    {
      "cell_type": "code",
      "source": [
        "# 다른 방법40ms, O(n)\n",
        "int(input())\n",
        "a = sorted(map(int, input().split()))\n",
        "\n",
        "total = 0\n",
        "n = len(a)\n",
        "\n",
        "for i in a:\n",
        "  total += i * n\n",
        "  n -= 1\n",
        "print(total)"
      ],
      "metadata": {
        "colab": {
          "base_uri": "https://localhost:8080/"
        },
        "id": "tPYyziHHEAn6",
        "outputId": "d3867094-77d8-4029-9601-7e298ad127fd"
      },
      "execution_count": null,
      "outputs": [
        {
          "output_type": "stream",
          "name": "stdout",
          "text": [
            "5\n",
            "3 1 4 3 2\n",
            "32\n"
          ]
        }
      ]
    }
  ]
}