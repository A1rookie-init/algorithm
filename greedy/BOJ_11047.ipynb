{
  "nbformat": 4,
  "nbformat_minor": 0,
  "metadata": {
    "colab": {
      "provenance": []
    },
    "kernelspec": {
      "name": "python3",
      "display_name": "Python 3"
    },
    "language_info": {
      "name": "python"
    }
  },
  "cells": [
    {
      "cell_type": "code",
      "execution_count": null,
      "metadata": {
        "colab": {
          "base_uri": "https://localhost:8080/"
        },
        "id": "ip-HbFYXEaUZ",
        "outputId": "32f9b970-f967-4a6a-a950-0e2238659b07"
      },
      "outputs": [
        {
          "output_type": "stream",
          "name": "stdout",
          "text": [
            "10 4200\n",
            "1\n",
            "5\n",
            "10\n",
            "50\n",
            "100\n",
            "500\n",
            "1000\n",
            "5000\n",
            "10000\n",
            "50000\n",
            "6\n"
          ]
        }
      ],
      "source": [
        "# 44ms(22)\n",
        "\n",
        "value_list = []\n",
        "\n",
        "value_num, value_sum = map(int, input().split())\n",
        "for _ in range(value_num):\n",
        "  value_list.append(int(input()))\n",
        "\n",
        "value_list.sort(reverse=True)\n",
        "\n",
        "cnt = 0\n",
        "pos = 0\n",
        "while value_sum > 0:\n",
        "  cnt += value_sum // value_list[pos]\n",
        "  value_sum = value_sum % value_list[pos]\n",
        "  pos += 1\n",
        "print(cnt)\n"
      ]
    }
  ]
}