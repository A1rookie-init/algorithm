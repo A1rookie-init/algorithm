{
  "nbformat": 4,
  "nbformat_minor": 0,
  "metadata": {
    "colab": {
      "provenance": []
    },
    "kernelspec": {
      "name": "python3",
      "display_name": "Python 3"
    },
    "language_info": {
      "name": "python"
    }
  },
  "cells": [
    {
      "cell_type": "code",
      "execution_count": null,
      "metadata": {
        "colab": {
          "base_uri": "https://localhost:8080/"
        },
        "id": "0Rog9aHlUZjF",
        "outputId": "5991b49e-8ff2-4dff-f485-f656415d1842"
      },
      "outputs": [
        {
          "output_type": "stream",
          "name": "stdout",
          "text": [
            "10\n",
            "0 0\n",
            "2 2\n",
            "0 3\n",
            "1 2\n",
            "2 5\n",
            "3 4\n",
            "4 5\n",
            "4 6\n",
            "5 6\n",
            "6 7\n",
            "7\n"
          ]
        }
      ],
      "source": [
        "\n",
        "mting_list = []\n",
        "\n",
        "mting_num = int(input())\n",
        "for _ in range(mting_num):\n",
        "  start, end = map(int, input().split())\n",
        "  mting_list.append((start, end))\n",
        "\n",
        "mting_list.sort(key=lambda x: (x[1], x[0]))\n",
        "\n",
        "cnt = 0\n",
        "before_end = 0\n",
        "for m in mting_list:\n",
        "  if m[0] >= before_end: # 이것만 만족하면 바로 선택한다.\n",
        "          # 정렬해둬서 가장 앞에 있는것이 끝점이 가장빠른거니까.\n",
        "    cnt += 1\n",
        "    before_end = m[1]\n",
        "print(cnt)\n"
      ]
    },
    {
      "cell_type": "code",
      "source": [
        "mting_num = int(input())\n",
        "\n",
        "mting_list = []\n",
        "for _ in range(mting_num):\n",
        "  s, e = map(int, input().split())\n",
        "  mting_list.append((s, e))\n",
        "\n",
        "mting_list.sort(key=lambda x: (x[1], x[0]))\n",
        "\n",
        "cnt = 0\n",
        "before_end = 0\n",
        "for start, end in mting_list:\n",
        "  if start >= before_end:\n",
        "    cnt += 1\n",
        "    before_end = end\n",
        "\n",
        "print(cnt)\n",
        "\n"
      ],
      "metadata": {
        "colab": {
          "base_uri": "https://localhost:8080/"
        },
        "id": "m4ft50jsgdJl",
        "outputId": "9f11de83-a169-4550-deba-910a547fc900"
      },
      "execution_count": null,
      "outputs": [
        {
          "output_type": "stream",
          "name": "stdout",
          "text": [
            "11\n",
            "1 4\n",
            "3 5\n",
            "0 6\n",
            "5 7\n",
            "3 8\n",
            "5 9\n",
            "6 10\n",
            "8 11\n",
            "8 12\n",
            "2 13\n",
            "12 14\n",
            "4\n"
          ]
        }
      ]
    }
  ]
}