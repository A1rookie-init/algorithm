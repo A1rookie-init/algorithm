{
  "nbformat": 4,
  "nbformat_minor": 0,
  "metadata": {
    "colab": {
      "provenance": []
    },
    "kernelspec": {
      "name": "python3",
      "display_name": "Python 3"
    },
    "language_info": {
      "name": "python"
    }
  },
  "cells": [
    {
      "cell_type": "code",
      "execution_count": null,
      "metadata": {
        "colab": {
          "base_uri": "https://localhost:8080/"
        },
        "id": "5KBKf5iCoFal",
        "outputId": "0576d623-2385-4f75-bcf4-2f487bf1db85"
      },
      "outputs": [
        {
          "output_type": "stream",
          "name": "stdout",
          "text": [
            "3\n",
            "40 30 30\n",
            "140\n"
          ]
        }
      ],
      "source": [
        "# 시간초과\n",
        "# 입력함수 sys.stdin.readline()으로 바꿔도 시간초과\n",
        "\n",
        "def max_gold(card_num, card_list, max_level):\n",
        "  for pos in range(card_num):\n",
        "    if card_list[pos] == max_level:\n",
        "      loc_left = pos-1\n",
        "      loc_right = pos+1\n",
        "      gold = 0\n",
        "      while loc_left >= 0:\n",
        "        gold += card_list[loc_left] + max_level\n",
        "      while loc_right < card_num:\n",
        "        gold += max_level + card_list[loc_right]\n",
        "        loc_right += 1\n",
        "      print(gold)\n",
        "      return\n",
        "\n",
        "if __name__ == '__main__':\n",
        "  card_num = int(input())\n",
        "  card_list = list(map(int, input().split()))\n",
        "  # list의 index는 카드의 순서\n",
        "\n",
        "  max_level = max(card_list)\n",
        "  max_gold(card_num, card_list, max_level)\n"
      ]
    },
    {
      "cell_type": "code",
      "source": [
        "# 방법 1 : for N 돌린김에 max함수쓰지않고 그때 max구하기\n",
        "# 40ms\n",
        "\n",
        "def max_gold(card_num, card_list):\n",
        "  gold = 0\n",
        "  max_level = card_list[0]\n",
        "  for card in card_list:\n",
        "    gold += card\n",
        "    if card > max_level:\n",
        "      max_level = card\n",
        "  gold += max_level * (card_num - 2)\n",
        "  print(gold)\n",
        "  return\n",
        "\n",
        "if __name__ == '__main__':\n",
        "  card_num = int(input())\n",
        "  card_list = list(map(int, input().split()))\n",
        "  max_gold(card_num, card_list)"
      ],
      "metadata": {
        "colab": {
          "base_uri": "https://localhost:8080/"
        },
        "id": "0attYFb2wn6R",
        "outputId": "67b577ef-bf94-455c-c4b4-5bb05a1fcf2f"
      },
      "execution_count": null,
      "outputs": [
        {
          "output_type": "stream",
          "name": "stdout",
          "text": [
            "3\n",
            "40 30 30\n",
            "140\n"
          ]
        }
      ]
    },
    {
      "cell_type": "code",
      "source": [
        "# 방법2 : 파이썬 max( ) 사용하기\n",
        "# 64ms\n",
        "def max_gold(card_num, card_list):\n",
        "  gold = 0\n",
        "  max_level = max(card_list)\n",
        "  for card in card_list:\n",
        "    gold += card\n",
        "  gold += max_level * (card_num - 2)\n",
        "  print(gold)\n",
        "  return\n",
        "\n",
        "if __name__ == '__main__':\n",
        "  card_num = int(input())\n",
        "  card_list = list(map(int, input().split()))\n",
        "  max_gold(card_num, card_list)"
      ],
      "metadata": {
        "colab": {
          "base_uri": "https://localhost:8080/"
        },
        "id": "nzNprZoQ3dTj",
        "outputId": "921b9a99-8be2-44f0-8e64-1afc72d7c2f5"
      },
      "execution_count": null,
      "outputs": [
        {
          "output_type": "stream",
          "name": "stdout",
          "text": [
            "3\n",
            "40 30 30\n",
            "140\n"
          ]
        }
      ]
    }
  ]
}