{
  "nbformat": 4,
  "nbformat_minor": 0,
  "metadata": {
    "colab": {
      "provenance": []
    },
    "kernelspec": {
      "name": "python3",
      "display_name": "Python 3"
    },
    "language_info": {
      "name": "python"
    }
  },
  "cells": [
    {
      "cell_type": "code",
      "execution_count": null,
      "metadata": {
        "colab": {
          "base_uri": "https://localhost:8080/"
        },
        "id": "f_6N-IZuqGVl",
        "outputId": "b2d17aeb-84fb-4375-e28a-f9554c329a34"
      },
      "outputs": [
        {
          "output_type": "stream",
          "name": "stdout",
          "text": [
            "6 3 2\n",
            "2\n"
          ]
        }
      ],
      "source": [
        "# 40ms (35)\n",
        "def max_team(com_wmen, com_men, in_num):\n",
        "  in_wmen = N % 2\n",
        "  max = 0\n",
        "  while in_wmen <= K:\n",
        "    wmen_t = (com_wmen-in_wmen)//2\n",
        "    men_t = com_men-(in_num-in_wmen)\n",
        "    if wmen_t <= men_t:\n",
        "      num = wmen_t\n",
        "    else:\n",
        "      num = men_t\n",
        "    if max < num:\n",
        "      max = num\n",
        "    in_wmen += 2\n",
        "  print(max)\n",
        "\n",
        "if __name__ == '__main__':\n",
        "  N, M, K = map(int, input().split())\n",
        "  max_team(N, M, K)"
      ]
    },
    {
      "cell_type": "code",
      "source": [
        "# 그리디 접근 풀이\n",
        "if __name__ == '__main__':\n",
        "  N, M, K = map(int, input().split())\n",
        "\n",
        "  cnt = 0\n",
        "  # N+M >= K+3: k인원을 빼고도 팀을 생성시킬수있어야하니까\n",
        "  while N >= 2 and M >= 1 and N+M >= K+3:\n",
        "    cnt += 1\n",
        "    N -= 2\n",
        "    M -= 1\n",
        "  print(cnt)"
      ],
      "metadata": {
        "id": "Am4spbwXsZyx",
        "colab": {
          "base_uri": "https://localhost:8080/"
        },
        "outputId": "2e31196f-ef31-4657-ac04-bcbc60dd4f2f"
      },
      "execution_count": null,
      "outputs": [
        {
          "output_type": "stream",
          "name": "stdout",
          "text": [
            "6 3 2\n",
            "2\n"
          ]
        }
      ]
    }
  ]
}