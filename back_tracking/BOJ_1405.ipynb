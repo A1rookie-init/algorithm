{
  "nbformat": 4,
  "nbformat_minor": 0,
  "metadata": {
    "colab": {
      "provenance": []
    },
    "kernelspec": {
      "name": "python3",
      "display_name": "Python 3"
    },
    "language_info": {
      "name": "python"
    }
  },
  "cells": [
    {
      "cell_type": "code",
      "source": [
        "# 1436 ms / 31252 KB\n",
        "\n",
        "# 백트래킹-\n",
        "def b_track(move, now_y, now_x, now_prob):\n",
        "  if move == N:\n",
        "    total_prob[0] += now_prob\n",
        "    return\n",
        "  for i in range(1, 5):\n",
        "    this_y = now_y + y[i]\n",
        "    this_x = now_x + x[i]\n",
        "    if not visited[this_y][this_x]:\n",
        "      visited[this_y][this_x] = True\n",
        "      b_track(move+1, this_y, this_x, now_prob * probs[i]/100)\n",
        "      visited[this_y][this_x] = False\n",
        "\n",
        "# 입력: 그래프생성- 각방향정보, 확률정보,\n",
        "\n",
        "# N, 동1, 서2, 남3, 북4\n",
        "probs = list(map(int, input().split()))\n",
        "# 행, 열\n",
        "y = [0, 0, 0, -1, 1] # 0, 동1, 서2, 남3, 북4\n",
        "x = [0, 1, -1, 0, 0] # 0, 동1, 서2, 남3, 북4\n",
        "\n",
        "# 방문변수, 경로정보변수\n",
        "N = probs[0]\n",
        "visited = [[False]*(2*N+1) for _ in range(2*N+1)]\n",
        "total_prob = [0]\n",
        "\n",
        "# 순회\n",
        "visited[N][N] = True\n",
        "b_track(0, N, N, 1)\n",
        "\n",
        "# 출력\n",
        "print(total_prob[0])"
      ],
      "metadata": {
        "colab": {
          "base_uri": "https://localhost:8080/"
        },
        "id": "1vvtRf8u23Ub",
        "outputId": "549fe9a9-e099-4158-ec86-9fd52894799d"
      },
      "execution_count": null,
      "outputs": [
        {
          "output_type": "stream",
          "name": "stdout",
          "text": [
            "14 25 25 25 25\n",
            "0.008845493197441101\n"
          ]
        }
      ]
    }
  ]
}