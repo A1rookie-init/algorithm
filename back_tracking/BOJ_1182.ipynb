{
  "nbformat": 4,
  "nbformat_minor": 0,
  "metadata": {
    "colab": {
      "provenance": []
    },
    "kernelspec": {
      "name": "python3",
      "display_name": "Python 3"
    },
    "language_info": {
      "name": "python"
    }
  },
  "cells": [
    {
      "cell_type": "code",
      "source": [
        "# 324 ms\n",
        "# 31120 KB\n",
        "\n",
        "# 상태공간트리생성, dfs, 조건탐지\n",
        "def back_tracking(start, sum, cnt):\n",
        "  if sum == S:\n",
        "    cnt[0] += 1\n",
        "  for v in range(start+1, N):\n",
        "    back_tracking(v, sum+num_list[v], cnt)\n",
        "\n",
        "# 입력받기\n",
        "N, S = map(int, input().split())\n",
        "num_list = list(map(int, input().split()))\n",
        "\n",
        "# 시작정점별 순회시키기\n",
        "cnt = [0]\n",
        "for start in range(N):\n",
        "  back_tracking(start, num_list[start], cnt)\n",
        "\n",
        "# 출력\n",
        "print(cnt[0])"
      ],
      "metadata": {
        "colab": {
          "base_uri": "https://localhost:8080/"
        },
        "id": "sUlRiX8gok1S",
        "outputId": "136be542-f986-4280-f62f-20015c564f5d"
      },
      "execution_count": null,
      "outputs": [
        {
          "output_type": "stream",
          "name": "stdout",
          "text": [
            "5 5\n",
            "-7 2 3 5 12\n",
            "3\n"
          ]
        }
      ]
    },
    {
      "cell_type": "code",
      "source": [
        "# 다른 풀이\n",
        "# 488 ms\n",
        "# 31120 KB\n",
        "\n",
        "N, S = map(int, input().split())\n",
        "num = list(map(int, input().split()))\n",
        "cnt = 0\n",
        "ans = []\n",
        "\n",
        "def back_tracking(start):\n",
        "    global cnt\n",
        "    if sum(ans) == S and len(ans) > 0:\n",
        "        cnt += 1\n",
        "    for i in range(start, N):\n",
        "        ans.append(num[i])\n",
        "        back_tracking(i+1)\n",
        "        ans.pop()\n",
        "\n",
        "back_tracking(0)\n",
        "print(cnt)"
      ],
      "metadata": {
        "id": "PiCLy_M1NiWc"
      },
      "execution_count": null,
      "outputs": []
    }
  ]
}