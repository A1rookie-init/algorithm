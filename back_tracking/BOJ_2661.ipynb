{
  "nbformat": 4,
  "nbformat_minor": 0,
  "metadata": {
    "colab": {
      "provenance": []
    },
    "kernelspec": {
      "name": "python3",
      "display_name": "Python 3"
    },
    "language_info": {
      "name": "python"
    }
  },
  "cells": [
    {
      "cell_type": "code",
      "source": [
        "# 백트래킹\n",
        "def b_track(idx):\n",
        "  for k in range(1, idx//2+1):\n",
        "    if num_list[-2*k:-k] == num_list[-k:]:\n",
        "      return False\n",
        "  if idx == N:\n",
        "    for j in num_list:\n",
        "      print(j, end='')\n",
        "    return True\n",
        "  for v in range(1, 4):\n",
        "    num_list.append(v)\n",
        "    if b_track(idx+1):\n",
        "      return True\n",
        "    num_list.pop()\n",
        "\n",
        "if __name__ == '__main__':\n",
        "  # 입력\n",
        "  N = int(input())\n",
        "  num_list = []\n",
        "  # 순회\n",
        "  b_track(0)\n",
        "  # 출력"
      ],
      "metadata": {
        "colab": {
          "base_uri": "https://localhost:8080/"
        },
        "id": "F4g9VnEy0cOA",
        "outputId": "be3a09ff-3621-4574-f66d-23b75638951e"
      },
      "execution_count": null,
      "outputs": [
        {
          "output_type": "stream",
          "name": "stdout",
          "text": [
            "7\n",
            "1213121"
          ]
        }
      ]
    },
    {
      "cell_type": "code",
      "source": [
        "# 백트래킹\n",
        "def b_track(start):\n",
        "  size = len(num_list)\n",
        "  idx = size - 1\n",
        "  for k in range(1, size//2):\n",
        "    r = 2*k+1\n",
        "    while k!= -1 and num_list[idx-k] == num_list[idx-r]:\n",
        "      r -= 1\n",
        "      k -= 1\n",
        "    if k == -1:\n",
        "      return 0\n",
        "  if size == N:\n",
        "    return 1\n",
        "  for v in graph[start]:\n",
        "    num_list.append(v)\n",
        "    if b_track(v):\n",
        "      return 1\n",
        "    num_list.pop()\n",
        "\n",
        "if __name__ == '__main__':\n",
        "  # 입력\n",
        "  N = int(input())\n",
        "  graph = [[],[2, 3], [1, 3], [1, 2]]\n",
        "  num_list = []\n",
        "  # 순회\n",
        "  for s in range(1, 4):\n",
        "    num_list.append(s)\n",
        "    if b_track(s):\n",
        "      for i in num_list:\n",
        "        print(i, end='')\n",
        "      break"
      ],
      "metadata": {
        "colab": {
          "base_uri": "https://localhost:8080/"
        },
        "id": "FGQGkKeBfz3C",
        "outputId": "25aa972f-87be-4246-f6a2-1494478cb791"
      },
      "execution_count": null,
      "outputs": [
        {
          "output_type": "stream",
          "name": "stdout",
          "text": [
            "7\n",
            "1213121"
          ]
        }
      ]
    }
  ]
}