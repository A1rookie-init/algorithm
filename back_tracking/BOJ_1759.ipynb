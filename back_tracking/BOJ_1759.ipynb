{
  "nbformat": 4,
  "nbformat_minor": 0,
  "metadata": {
    "colab": {
      "provenance": []
    },
    "kernelspec": {
      "name": "python3",
      "display_name": "Python 3"
    },
    "language_info": {
      "name": "python"
    }
  },
  "cells": [
    {
      "cell_type": "code",
      "source": [
        "# 56ms / 31120 KB\n",
        "\n",
        "# 백트래킹:상태공간트리생성-DFS-Back\n",
        "def b_track(start, odd, even, c_size, l_size, l_list):\n",
        "  l_list.append(c_list[start])\n",
        "  if c_list[start] in ['a','e','i', 'o', 'u']:\n",
        "    odd += 1\n",
        "  else:\n",
        "    even += 1\n",
        "\n",
        "  if len(l_list) == l_size:\n",
        "    if odd >= 1 and even >=2:\n",
        "      for p in l_list:\n",
        "        print(p, end='')\n",
        "      print()\n",
        "    return # L개만 되면 암호가됐던 제약되서안됐던 back\n",
        "\n",
        "  for v in range(start+1, c_size):\n",
        "    b_track(v, odd, even, c_size, l_size, l_list)\n",
        "    l_list.pop()\n",
        "\n",
        "if __name__ == '__main__':\n",
        "  # 입력\n",
        "  L, C = map(int, input().split())\n",
        "  c_list = input().split()\n",
        "  # 정렬\n",
        "  c_list.sort()\n",
        "  # 필요변수 준비\n",
        "  l_list = []\n",
        "  # 순회: 경우들 출력도 사전식으로 출력되어야하니 for시작정점도 그렇게\n",
        "  for start in range(0, C-L+1):\n",
        "    b_track(start, 0, 0, C, L, l_list)\n",
        "    l_list.pop()\n"
      ],
      "metadata": {
        "colab": {
          "base_uri": "https://localhost:8080/"
        },
        "id": "UveeCZhB7USs",
        "outputId": "0a90105a-51ca-4b91-bf17-7d949e2888df"
      },
      "execution_count": null,
      "outputs": [
        {
          "output_type": "stream",
          "name": "stdout",
          "text": [
            "4 6\n",
            "a t c i s w\n",
            "acis\n",
            "acit\n",
            "aciw\n",
            "acst\n",
            "acsw\n",
            "actw\n",
            "aist\n",
            "aisw\n",
            "aitw\n",
            "astw\n",
            "cist\n",
            "cisw\n",
            "citw\n",
            "istw\n"
          ]
        }
      ]
    },
    {
      "cell_type": "code",
      "source": [
        "# 40ms / 31120 KB\n",
        "# 가지치기를 더 한 것\n",
        "\n",
        "# 백트래킹:상태공간트리생성-DFS-Back\n",
        "def b_track(start, odd, even, c_size, l_size, l_list):\n",
        "  l_list.append(c_list[start])\n",
        "  if c_list[start] in ['a','e','i', 'o', 'u']:\n",
        "    odd += 1\n",
        "  else:\n",
        "    even += 1\n",
        "\n",
        "  left = l_size - len(l_list)\n",
        "  if left == 0:\n",
        "    if odd >= 1 and even >=2:\n",
        "      for p in l_list:\n",
        "        print(p, end='')\n",
        "      print()\n",
        "    return # L개만 되면 암호가됐던 제약되서안됐던 back\n",
        "  elif left > c_size-1-start:\n",
        "    return # 가능한 연결정점들 보다 채워야 될 문자개수는 더많을떄\n",
        "  else:\n",
        "    for v in range(start+1, c_size):\n",
        "      b_track(v, odd, even, c_size, l_size, l_list)\n",
        "      l_list.pop()\n",
        "\n",
        "if __name__ == '__main__':\n",
        "  # 입력\n",
        "  L, C = map(int, input().split())\n",
        "  c_list = input().split()\n",
        "  # 정렬\n",
        "  c_list.sort()\n",
        "  # 필요변수 준비\n",
        "  l_list = []\n",
        "  # 순회:경우들 출력도 사전식으로 출력되어야하니 for시작정점도 그렇게\n",
        "  for start in range(0, C-L+1):\n",
        "    b_track(start, 0, 0, C, L, l_list)\n",
        "    l_list.pop()"
      ],
      "metadata": {
        "colab": {
          "base_uri": "https://localhost:8080/"
        },
        "id": "BhY8wjYn7wx-",
        "outputId": "6cd81a9a-33dd-41dc-e011-3a1ca37fffc9"
      },
      "execution_count": null,
      "outputs": [
        {
          "output_type": "stream",
          "name": "stdout",
          "text": [
            "4 6\n",
            "a t c i s w\n",
            "acis\n",
            "acit\n",
            "aciw\n",
            "acst\n",
            "acsw\n",
            "actw\n",
            "aist\n",
            "aisw\n",
            "aitw\n",
            "astw\n",
            "cist\n",
            "cisw\n",
            "citw\n",
            "istw\n"
          ]
        }
      ]
    },
    {
      "cell_type": "code",
      "execution_count": null,
      "metadata": {
        "id": "jcZOh4rZWBt7",
        "colab": {
          "base_uri": "https://localhost:8080/"
        },
        "outputId": "50fb9f8f-7c35-460d-f3e2-47d9347df5e6"
      },
      "outputs": [
        {
          "output_type": "stream",
          "name": "stdout",
          "text": [
            "4 6\n",
            "a t c i s w\n",
            "acis\n",
            "acit\n",
            "aciw\n",
            "acst\n",
            "acsw\n",
            "actw\n",
            "aist\n",
            "aisw\n",
            "aitw\n",
            "astw\n",
            "cist\n",
            "cisw\n",
            "citw\n",
            "istw\n"
          ]
        }
      ],
      "source": [
        "# 52ms\n",
        "# 31120 KB\n",
        "# 탐색 시작을 다르게 한 풀이\n",
        "\n",
        "def dfs(start, vow, no_vow, size, s_list):\n",
        "  if len(ans_list) == L:\n",
        "    if vow >= 1 and no_vow >= 2:\n",
        "      for j in ans_list:\n",
        "        print(j, end='')\n",
        "      print()\n",
        "  elif len(ans_list) < L:\n",
        "    for i in range(start+1, size):\n",
        "      ans_list.append(s_list[i])\n",
        "      if s_list[i] in ['a', 'e', 'i', 'o', 'u']:\n",
        "        dfs(i, vow+1, no_vow, size, s_list)\n",
        "      else:\n",
        "        dfs(i, vow, no_vow+1, size, s_list)\n",
        "      ans_list.pop()\n",
        "\n",
        "L, C = map(int, input().split())\n",
        "s_list = input().split()\n",
        "\n",
        "s_list.sort()\n",
        "\n",
        "for start in range(0, C-L+1):\n",
        "  ans_list = [s_list[start]]\n",
        "  if s_list[start] in ['a', 'e', 'i', 'o', 'u']:\n",
        "    dfs(start, 1, 0, C, s_list)\n",
        "  else:\n",
        "    dfs(start, 0, 1, C, s_list)\n"
      ]
    },
    {
      "cell_type": "code",
      "source": [
        "# 다른풀이1\n",
        "\n",
        "l, c = map(int, input().split())\n",
        "words = input().split()\n",
        "words.sort()\n",
        "answer = []\n",
        "\n",
        "def back_tracking(cnt, idx):\n",
        "    if cnt == l:\n",
        "        vo, co = 0, 0\n",
        "        for i in range(l):\n",
        "            if answer[i] in ['a', 'e', 'i', 'o', 'u']:\n",
        "                vo += 1\n",
        "            else:\n",
        "                co += 1\n",
        "        if vo >= 1 and co >= 2:\n",
        "            print(\"\".join(answer))\n",
        "        return  # return 을 충족때와 제약때 모두 적용\n",
        "    for i in range(idx, c):\n",
        "        answer.append(words[i])\n",
        "        back_tracking(cnt + 1, i + 1)\n",
        "        answer.pop()\n",
        "\n",
        "back_tracking(0, 0)"
      ],
      "metadata": {
        "id": "98VXwEY9BTJO"
      },
      "execution_count": null,
      "outputs": []
    },
    {
      "cell_type": "code",
      "source": [
        "# 다른풀이2\n",
        "\n",
        "vowel = ['a', 'e', 'i', 'o', 'u']\n",
        "L, C = map(int, input().split())\n",
        "words = input().split()\n",
        "words.sort()\n",
        "\n",
        "def check(arr):\n",
        "    v_count, c_count = 0, 0 # 모음 개수, 자음 개수\n",
        "    for i in arr:\n",
        "        if i in vowel:\n",
        "            v_count += 1\n",
        "        else:\n",
        "            c_count += 1\n",
        "    if v_count >= 1 and c_count >= 2:\n",
        "        return True\n",
        "    else:\n",
        "        return False\n",
        "\n",
        "def backtracking(arr):\n",
        "    if len(arr) == L:\n",
        "        if check(arr):\n",
        "            print(\"\".join(arr))\n",
        "            return\n",
        "    for i in range(len(arr), C):\n",
        "        if arr[-1] < words[i]:\n",
        "            arr.append(words[i])\n",
        "            backtracking(arr)\n",
        "            arr.pop()\n",
        "for i in range(C - L + 1):\n",
        "    a = [words[i]]\n",
        "    backtracking(a)"
      ],
      "metadata": {
        "id": "ejksyC_bBSdL"
      },
      "execution_count": null,
      "outputs": []
    }
  ]
}