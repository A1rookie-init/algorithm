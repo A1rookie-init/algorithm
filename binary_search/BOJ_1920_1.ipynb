{
  "nbformat": 4,
  "nbformat_minor": 0,
  "metadata": {
    "colab": {
      "provenance": []
    },
    "kernelspec": {
      "name": "python3",
      "display_name": "Python 3"
    },
    "language_info": {
      "name": "python"
    }
  },
  "cells": [
    {
      "cell_type": "code",
      "execution_count": null,
      "metadata": {
        "id": "so3e8gxEuQ85"
      },
      "outputs": [],
      "source": [
        "# 제출1 : 176 ms, 51304 KB\n",
        "\n",
        "input()\n",
        "data_list = list(map(int, input().split()))\n",
        "input()\n",
        "quiz_list = list(map(int, input().split()))\n",
        "\n",
        "data_dict = {}\n",
        "\n",
        "for i in data_list:\n",
        "  data_dict[i] = 1\n",
        "\n",
        "for i in quiz_list:\n",
        "  print(data_dict.get(i, 0))"
      ]
    }
  ]
}