{
  "nbformat": 4,
  "nbformat_minor": 0,
  "metadata": {
    "colab": {
      "provenance": [],
      "toc_visible": true
    },
    "kernelspec": {
      "name": "python3",
      "display_name": "Python 3"
    },
    "language_info": {
      "name": "python"
    }
  },
  "cells": [
    {
      "cell_type": "code",
      "source": [
        "# 제출\n",
        "# 784 ms\n",
        "# 151612 KB\n",
        "\n",
        "def get_cut_ht(tree_num:int, need_size:int, tree_list:list) -> int:\n",
        "  end = -1\n",
        "  begin = -2\n",
        "  times = 1\n",
        "  total = (tree_list[end] - tree_list[begin])*times\n",
        "  while need_size > total:\n",
        "    end -= 1\n",
        "    begin -= 1\n",
        "    times += 1\n",
        "    total += (tree_list[end] - tree_list[begin])*times\n",
        "  if need_size == total:  # 같으면 바로 탈출\n",
        "    return tree_list[begin]\n",
        "  # 해당 구간까지의 합에 속하게 된 경우\n",
        "  add, left = divmod((need_size - (total - (\\\n",
        "      tree_list[end] - tree_list[begin])*times)), times)\n",
        "  if left:\n",
        "    add += 1\n",
        "  cut_ht = tree_list[end] - add\n",
        "  return cut_ht\n",
        "\n",
        "if __name__ == '__main__':\n",
        "  tree_num, need_size = map(int, input().split())\n",
        "  tree_list = [0]\n",
        "  tree_list += sorted(map(int, input().split()))\n",
        "  print(get_cut_ht(tree_num, need_size, tree_list))"
      ],
      "metadata": {
        "colab": {
          "base_uri": "https://localhost:8080/"
        },
        "id": "Z5loqRQs6JsV",
        "outputId": "89f23676-7259-4be2-aaff-2ca2d874657f"
      },
      "execution_count": 25,
      "outputs": [
        {
          "output_type": "stream",
          "name": "stdout",
          "text": [
            "5 20\n",
            "4 42 40 26 46\n",
            "36\n"
          ]
        }
      ]
    },
    {
      "cell_type": "code",
      "source": [
        "sorted(map(int, input().split()))"
      ],
      "metadata": {
        "colab": {
          "base_uri": "https://localhost:8080/"
        },
        "id": "4pjATOBS5q_Q",
        "outputId": "e9eba16e-8fcb-4c36-a9e2-381e9f6c793d"
      },
      "execution_count": 5,
      "outputs": [
        {
          "name": "stdout",
          "output_type": "stream",
          "text": [
            "1 5 2 9\n"
          ]
        },
        {
          "output_type": "execute_result",
          "data": {
            "text/plain": [
              "[1, 2, 5, 9]"
            ]
          },
          "metadata": {},
          "execution_count": 5
        }
      ]
    },
    {
      "cell_type": "code",
      "source": [
        "tree_list = [0]\n",
        "tree_list += sorted(map(int, input().split()))"
      ],
      "metadata": {
        "colab": {
          "base_uri": "https://localhost:8080/"
        },
        "id": "VijpoR5KdmN7",
        "outputId": "aabe2d89-5875-4383-eb14-0b855fe8f3f0"
      },
      "execution_count": 20,
      "outputs": [
        {
          "name": "stdout",
          "output_type": "stream",
          "text": [
            "1 5 2 9\n"
          ]
        }
      ]
    },
    {
      "cell_type": "code",
      "source": [
        "tree_list"
      ],
      "metadata": {
        "colab": {
          "base_uri": "https://localhost:8080/"
        },
        "id": "iJYyrhhldtbT",
        "outputId": "3de203ca-ec2d-4ac2-92f3-6d3b63f992dc"
      },
      "execution_count": 21,
      "outputs": [
        {
          "output_type": "execute_result",
          "data": {
            "text/plain": [
              "[0, 1, 2, 5, 9]"
            ]
          },
          "metadata": {},
          "execution_count": 21
        }
      ]
    }
  ]
}