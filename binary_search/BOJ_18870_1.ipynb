{
  "nbformat": 4,
  "nbformat_minor": 0,
  "metadata": {
    "colab": {
      "provenance": []
    },
    "kernelspec": {
      "name": "python3",
      "display_name": "Python 3"
    },
    "language_info": {
      "name": "python"
    }
  },
  "cells": [
    {
      "cell_type": "code",
      "execution_count": null,
      "metadata": {
        "id": "5P76GAxYu2j9"
      },
      "outputs": [],
      "source": [
        "# 제출4 (정답) : 1884 ms\n",
        "# 중복고려x, 서로 다른 개수\n",
        "# 출력 분산\n",
        "int(input())\n",
        "point_list = list(map(int, input().split()))\n",
        "sorted_list = sorted(set(point_list))\n",
        "\n",
        "point_dict = {}\n",
        "\n",
        "for idx in range(len(sorted_list)):\n",
        "  point_dict[sorted_list[idx]] = idx\n",
        "\n",
        "for point in point_list:\n",
        "  print(point_dict[point], end=' ')"
      ]
    },
    {
      "cell_type": "code",
      "source": [
        "# 제출 5 (정답) :  2072 ms\n",
        "# 중복고려x, 서로 다른 개수\n",
        "# 출력 한번에\n",
        "\n",
        "int(input())\n",
        "point_list = list(map(int, input().split()))\n",
        "\n",
        "sorted_list = sorted(set(point_list))\n",
        "\n",
        "point_dict = {}\n",
        "\n",
        "for idx in range(len(sorted_list)):\n",
        "  point_dict[sorted_list[idx]] = idx\n",
        "\n",
        "results = []\n",
        "for point in point_list:\n",
        "  results.append(point_dict[point])\n",
        "for i in results:\n",
        "  print(i, end=' ')"
      ],
      "metadata": {
        "id": "rGF-m30ru3to"
      },
      "execution_count": null,
      "outputs": []
    }
  ]
}