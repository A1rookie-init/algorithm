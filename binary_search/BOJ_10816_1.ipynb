{
  "nbformat": 4,
  "nbformat_minor": 0,
  "metadata": {
    "colab": {
      "provenance": []
    },
    "kernelspec": {
      "name": "python3",
      "display_name": "Python 3"
    },
    "language_info": {
      "name": "python"
    }
  },
  "cells": [
    {
      "cell_type": "code",
      "source": [
        "# 제출1 (60)\n",
        "# 684 ms\n",
        "# 132084 KB\n",
        "\n",
        "def make_dict(cards:str) -> dict:\n",
        "    cards_dict = {}\n",
        "    for card in cards.split():\n",
        "        cnt = cards_dict.get(card, 0)\n",
        "        cards_dict[card] = cnt + 1\n",
        "    return cards_dict\n",
        "\n",
        "def print_cnt(cards:str, cards_dict:dict) -> None:\n",
        "    results = []\n",
        "    for card in cards.split():\n",
        "        cnt = cards_dict.get(card, 0)\n",
        "        results.append(cnt)\n",
        "    for i in results:\n",
        "        print(i, end=' ')\n",
        "\n",
        "if __name__ == '__main__':\n",
        "    input()\n",
        "    your_cards = input()\n",
        "    input()\n",
        "    quiz_cards = input()\n",
        "    print_cnt(quiz_cards, make_dict(your_cards))"
      ],
      "metadata": {
        "colab": {
          "base_uri": "https://localhost:8080/"
        },
        "id": "zbtgo5Sym2YE",
        "outputId": "517afa30-a5ca-4f7b-8be3-946840ebf075"
      },
      "execution_count": null,
      "outputs": [
        {
          "output_type": "stream",
          "name": "stdout",
          "text": [
            "10\n",
            "6 3 2 10 10 10 -10 -10 7 3\n",
            "8\n",
            "10 9 -5 2 3 4 5 -10\n",
            "3 0 0 1 2 0 0 2 "
          ]
        }
      ]
    },
    {
      "cell_type": "code",
      "source": [
        "# 딕셔너리 활용한 중복개수세기\n",
        "cards = '6 3 2 10 10 10 -10 -10 3 '\n",
        "cards_dict = {}\n",
        "for card in cards.split():\n",
        "    cnt = cards_dict.get(card, 0)\n",
        "    cards_dict[card] = cnt + 1"
      ],
      "metadata": {
        "id": "eKPGQMsStD5f"
      },
      "execution_count": null,
      "outputs": []
    }
  ]
}