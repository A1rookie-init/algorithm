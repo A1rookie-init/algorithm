{
  "nbformat": 4,
  "nbformat_minor": 0,
  "metadata": {
    "colab": {
      "provenance": []
    },
    "kernelspec": {
      "name": "python3",
      "display_name": "Python 3"
    },
    "language_info": {
      "name": "python"
    }
  },
  "cells": [
    {
      "cell_type": "code",
      "execution_count": null,
      "metadata": {
        "id": "igZFU-5SBLn3"
      },
      "outputs": [],
      "source": [
        "# 제출1 : 48 ms\n",
        "# 내장함수 len() 사용한 풀이\n",
        "\n",
        "def check_vps(ps:str) -> str:\n",
        "  stack = []\n",
        "  for j in ps:\n",
        "    if j == '(':\n",
        "      stack.append('(')\n",
        "    else:\n",
        "      if len(stack) != 0:\n",
        "        stack.pop() # 값 비교는 안할거라서 pop이 반환하는값 저장안했음\n",
        "      else:\n",
        "        return \"NO\"\n",
        "  if len(stack) != 0:\n",
        "    return \"NO\"\n",
        "  return \"YES\"\n",
        "\n",
        "test_cnt = int(input())\n",
        "results = []\n",
        "for i in range(test_cnt):\n",
        "  ps = input()\n",
        "  results.append(check_vps(ps))\n",
        "\n",
        "for j in results:\n",
        "  print(j)"
      ]
    }
  ]
}