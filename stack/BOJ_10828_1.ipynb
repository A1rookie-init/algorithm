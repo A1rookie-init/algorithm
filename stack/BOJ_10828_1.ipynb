{
  "nbformat": 4,
  "nbformat_minor": 0,
  "metadata": {
    "colab": {
      "provenance": []
    },
    "kernelspec": {
      "name": "python3",
      "display_name": "Python 3"
    },
    "language_info": {
      "name": "python"
    }
  },
  "cells": [
    {
      "cell_type": "code",
      "execution_count": null,
      "metadata": {
        "id": "i-iOg-gKWpJ6"
      },
      "outputs": [],
      "source": [
        "# 시간 : 432 ms (제한 0.5초)\n",
        "# 메모리 : 31120 KB (제한 256 MB)\n",
        "\n",
        "\n",
        "class MyStack:\n",
        "  def __init__(self):\n",
        "    self.__stack = list()\n",
        "    self.size = 0\n",
        "\n",
        "  def push(self, ele:int):\n",
        "    self.__stack.append(ele)\n",
        "    self.size += 1\n",
        "\n",
        "  def pop(self):\n",
        "    if self.size:\n",
        "      self.size -= 1\n",
        "      return self.__stack.pop()\n",
        "    return -1\n",
        "\n",
        "  def top(self):\n",
        "    if self.size:\n",
        "      return self.__stack[-1]\n",
        "    return -1\n",
        "\n",
        "  def empty(self):\n",
        "    if self.size:\n",
        "      return 0\n",
        "    return 1\n",
        "\n",
        "stack = MyStack()\n",
        "results = []\n",
        "command_cnt = int(input())\n",
        "\n",
        "for i in range(command_cnt):\n",
        "  command_list = input().split()\n",
        "  if command_list[0] == 'push':\n",
        "    stack.push(command_list[-1])\n",
        "  elif command_list[0] == 'pop':\n",
        "    results.append(stack.pop())\n",
        "  elif command_list[0] == 'size':\n",
        "    results.append(stack.size)\n",
        "  elif command_list[0] == 'empty':\n",
        "    results.append(stack.empty())\n",
        "  else:\n",
        "    results.append(stack.top())\n",
        "\n",
        "for i in results:\n",
        "  print(i)"
      ]
    }
  ]
}