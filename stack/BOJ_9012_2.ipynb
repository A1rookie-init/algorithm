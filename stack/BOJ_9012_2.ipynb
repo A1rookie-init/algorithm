{
  "nbformat": 4,
  "nbformat_minor": 0,
  "metadata": {
    "colab": {
      "provenance": []
    },
    "kernelspec": {
      "name": "python3",
      "display_name": "Python 3"
    },
    "language_info": {
      "name": "python"
    }
  },
  "cells": [
    {
      "cell_type": "code",
      "execution_count": null,
      "metadata": {
        "id": "6mL9QtoAtnbN"
      },
      "outputs": [],
      "source": [
        "# 연습과정 - 잘못된 길로 간 풀이\n",
        "class Vps:\n",
        "  def __init__(self):\n",
        "    self.__stack = list()\n",
        "    self.size = 0\n",
        "\n",
        "  def append(self, p:str) -> int:\n",
        "    self.__stack.append(p)\n",
        "    self.size += 1\n",
        "    return 1\n",
        "\n",
        "  def pop(self) -> int:\n",
        "    if self.size != 0:\n",
        "      self.__stack.pop()\n",
        "      self.size -= 1\n",
        "      return 1 # 값 비교는 안할 것이므로\n",
        "    return 0\n",
        "\n",
        "  def check_vps(self, ps:str) -> str:\n",
        "    for j in ps:\n",
        "      if j == '(':\n",
        "        stack.append('(')\n",
        "      else:\n",
        "        if len(stack) != 0:\n",
        "          stack.pop()\n",
        "        else:\n",
        "          return \"NO\"\n",
        "    if len(stack) != 0:\n",
        "      return \"NO\"\n",
        "    else:\n",
        "      return \"YES\""
      ]
    },
    {
      "cell_type": "code",
      "source": [
        "# 잘못된 길\n",
        "test_cnt = int(input())\n",
        "results = []\n",
        "for i in range(test_cnt):\n",
        "  ps = input()\n",
        "  stack = Vps()\n",
        "  for j in ps:\n",
        "    if j == '(':\n",
        "      check = stack.append('(')\n",
        "    else:\n",
        "      check = stack.pop()\n",
        "    if check:\n",
        "      results.append(\"NO\")\n",
        "      break\n",
        "  if stack.size != 0:    # 클래스로 구현한 스택을 사용하니까..if문이더늘어남..\n",
        "    results.append(\"NO\")\n",
        "  else:\n",
        "    results.append(\"YES\")"
      ],
      "metadata": {
        "id": "PqlBOXGDtsRj"
      },
      "execution_count": null,
      "outputs": []
    },
    {
      "cell_type": "code",
      "source": [
        "# 파이썬에서 제공하는 컬렉션타입과 기능이 완전히 동일하면,\n",
        "# 즉 알고리즘 풀이때 필요한 연산들이 파이썬에서 다 제공되면\n",
        "# 굳이 클래스로 만들필요가 없다.\n",
        "# 바로 파이썬꺼 이용하는게 더 빠르다.\n",
        "# 클래스로 캡슐화해두면 if문을 한번더 써야되는 등이 발생하더라\n",
        "# 그리고 시간도 더 오래걸리더라.\n",
        "\n",
        "test_cnt = int(input())\n",
        "results = []\n",
        "for i in range(test_cnt):\n",
        "  ps = input()\n",
        "  stack = []\n",
        "  for j in ps:\n",
        "    if j == '(':\n",
        "      stack.append('(')\n",
        "    else:\n",
        "      if len(stack) != 0:\n",
        "        stack.pop()\n",
        "      else:\n",
        "        results.append(\"NO\")\n",
        "        break                  # 여기서 고민\n",
        "  if stack.size != 0:\n",
        "    results.append(\"NO\")\n",
        "  else:\n",
        "    results.append(\"YES\")\n",
        "# break 가 이중으로 필요하거나\n",
        "# break + continue 가 필요하거나 이럴떄\n",
        "# -> flag 변수이용할수도있지만 if flag하느라 연산많아지니까\n",
        "# 함수로 구현해서 return 사용하게 하는게 낫네."
      ],
      "metadata": {
        "id": "0P-50eIK2fP0"
      },
      "execution_count": null,
      "outputs": []
    },
    {
      "cell_type": "code",
      "source": [
        "# 리스트의 pop()은 비어있을시에 에러낸다.\n",
        "a = [1,2]\n",
        "a.pop()\n",
        "a.pop()\n",
        "a.pop()"
      ],
      "metadata": {
        "colab": {
          "base_uri": "https://localhost:8080/",
          "height": 221
        },
        "id": "0ApP2Z5f2s1g",
        "outputId": "ea98530e-fbf3-44cd-cb67-02f78d5b455d"
      },
      "execution_count": 10,
      "outputs": [
        {
          "output_type": "error",
          "ename": "IndexError",
          "evalue": "pop from empty list",
          "traceback": [
            "\u001b[0;31m---------------------------------------------------------------------------\u001b[0m",
            "\u001b[0;31mIndexError\u001b[0m                                Traceback (most recent call last)",
            "\u001b[0;32m<ipython-input-10-98086111d5d4>\u001b[0m in \u001b[0;36m<cell line: 4>\u001b[0;34m()\u001b[0m\n\u001b[1;32m      2\u001b[0m \u001b[0ma\u001b[0m\u001b[0;34m.\u001b[0m\u001b[0mpop\u001b[0m\u001b[0;34m(\u001b[0m\u001b[0;34m)\u001b[0m\u001b[0;34m\u001b[0m\u001b[0;34m\u001b[0m\u001b[0m\n\u001b[1;32m      3\u001b[0m \u001b[0ma\u001b[0m\u001b[0;34m.\u001b[0m\u001b[0mpop\u001b[0m\u001b[0;34m(\u001b[0m\u001b[0;34m)\u001b[0m\u001b[0;34m\u001b[0m\u001b[0;34m\u001b[0m\u001b[0m\n\u001b[0;32m----> 4\u001b[0;31m \u001b[0ma\u001b[0m\u001b[0;34m.\u001b[0m\u001b[0mpop\u001b[0m\u001b[0;34m(\u001b[0m\u001b[0;34m)\u001b[0m\u001b[0;34m\u001b[0m\u001b[0;34m\u001b[0m\u001b[0m\n\u001b[0m",
            "\u001b[0;31mIndexError\u001b[0m: pop from empty list"
          ]
        }
      ]
    },
    {
      "cell_type": "code",
      "source": [
        "# 풀이시간 : 77분\n",
        "\n",
        "# 제출1 : 48 ms\n",
        "# 내장함수 len() 사용한 풀이\n",
        "\n",
        "def check_vps(ps:str) -> str:\n",
        "  stack = []\n",
        "  for j in ps:\n",
        "    if j == '(':\n",
        "      stack.append('(')\n",
        "    else:\n",
        "      if len(stack) != 0:\n",
        "        stack.pop() # 값 비교는 안할거라서 pop이 반환하는값 저장안했음\n",
        "      else:\n",
        "        return \"NO\"\n",
        "  if len(stack) != 0:\n",
        "    return \"NO\"\n",
        "  return \"YES\"\n",
        "\n",
        "test_cnt = int(input())\n",
        "results = []\n",
        "for i in range(test_cnt):\n",
        "  ps = input()\n",
        "  results.append(check_vps(ps))\n",
        "\n",
        "for j in results:\n",
        "  print(j)"
      ],
      "metadata": {
        "colab": {
          "base_uri": "https://localhost:8080/"
        },
        "id": "XQzF3dAc3loU",
        "outputId": "c523af86-6847-477e-dbc1-ba5388249d9d"
      },
      "execution_count": 5,
      "outputs": [
        {
          "output_type": "stream",
          "name": "stdout",
          "text": [
            "6\n",
            "(())())\n",
            "(((()())()\n",
            "(()())((()))\n",
            "((()()(()))(((())))()\n",
            "()()()()(()()())()\n",
            "(()((())()(\n",
            "NO\n",
            "NO\n",
            "YES\n",
            "NO\n",
            "YES\n",
            "NO\n"
          ]
        }
      ]
    },
    {
      "cell_type": "code",
      "source": [
        "# 제출 2 : 48 ms\n",
        "# 변수 size를 사용한 풀이\n",
        "\n",
        "def check_vps(ps:str) -> str:\n",
        "  stack = []\n",
        "  size = 0\n",
        "  for j in ps:\n",
        "    if j == '(':\n",
        "      stack.append('(')\n",
        "      size += 1\n",
        "    else:\n",
        "      if size != 0:\n",
        "        stack.pop()\n",
        "        size -= 1\n",
        "      else:\n",
        "        return \"NO\"\n",
        "  if size != 0:\n",
        "    return \"NO\"\n",
        "  return \"YES\"\n",
        "\n",
        "test_cnt = int(input())\n",
        "results = []\n",
        "for i in range(test_cnt):\n",
        "  ps = input()\n",
        "  results.append(check_vps(ps))\n",
        "\n",
        "for j in results:\n",
        "  print(j)"
      ],
      "metadata": {
        "colab": {
          "base_uri": "https://localhost:8080/"
        },
        "id": "EbJt-gIN5yxy",
        "outputId": "16cab0d3-592b-4100-dc67-907023fe136a"
      },
      "execution_count": 8,
      "outputs": [
        {
          "output_type": "stream",
          "name": "stdout",
          "text": [
            "3\n",
            "()\n",
            "(())\n",
            "(()))\n",
            "YES\n",
            "YES\n",
            "NO\n"
          ]
        }
      ]
    },
    {
      "cell_type": "code",
      "source": [
        "# 제출 3 : 48 ms\n",
        "# 변수 size + ==비교없이 바로 T/F 이용한 풀이\n",
        "\n",
        "def check_vps(ps:str) -> str:\n",
        "  stack = []\n",
        "  size = 0\n",
        "  for j in ps:\n",
        "    if j == '(':\n",
        "      stack.append('(')\n",
        "      size += 1\n",
        "    else:\n",
        "      if size:\n",
        "        stack.pop()\n",
        "        size -= 1\n",
        "      else:\n",
        "        return \"NO\"\n",
        "  if size:\n",
        "    return \"NO\"\n",
        "  return \"YES\"\n",
        "\n",
        "test_cnt = int(input())\n",
        "results = []\n",
        "for i in range(test_cnt):\n",
        "  ps = input()\n",
        "  results.append(check_vps(ps))\n",
        "\n",
        "for j in results:\n",
        "  print(j)"
      ],
      "metadata": {
        "colab": {
          "base_uri": "https://localhost:8080/"
        },
        "id": "PKoIu6HQ6z6M",
        "outputId": "b827b006-e8e0-44f0-9aaf-95eaea3e5415"
      },
      "execution_count": 9,
      "outputs": [
        {
          "output_type": "stream",
          "name": "stdout",
          "text": [
            "3\n",
            "((\n",
            "(())\n",
            "(())()\n",
            "NO\n",
            "YES\n",
            "YES\n"
          ]
        }
      ]
    },
    {
      "cell_type": "code",
      "source": [],
      "metadata": {
        "id": "dZU5yyqG5bfu"
      },
      "execution_count": null,
      "outputs": []
    },
    {
      "cell_type": "code",
      "source": [],
      "metadata": {
        "id": "iNVt25S85bdn"
      },
      "execution_count": null,
      "outputs": []
    },
    {
      "cell_type": "code",
      "source": [],
      "metadata": {
        "id": "UXsSPzea5bbo"
      },
      "execution_count": null,
      "outputs": []
    },
    {
      "cell_type": "code",
      "source": [],
      "metadata": {
        "id": "HInvG4SmtsNH"
      },
      "execution_count": null,
      "outputs": []
    },
    {
      "cell_type": "code",
      "source": [],
      "metadata": {
        "id": "SsZGDNHgtsLF"
      },
      "execution_count": null,
      "outputs": []
    },
    {
      "cell_type": "code",
      "source": [],
      "metadata": {
        "id": "hDXP9fj1tsI-"
      },
      "execution_count": null,
      "outputs": []
    },
    {
      "cell_type": "code",
      "source": [],
      "metadata": {
        "id": "hiKJOPFwtsGw"
      },
      "execution_count": null,
      "outputs": []
    },
    {
      "cell_type": "code",
      "source": [],
      "metadata": {
        "id": "BBwU_N5PtsEx"
      },
      "execution_count": null,
      "outputs": []
    },
    {
      "cell_type": "code",
      "source": [],
      "metadata": {
        "id": "h70DlwZ8tsCi"
      },
      "execution_count": null,
      "outputs": []
    }
  ]
}