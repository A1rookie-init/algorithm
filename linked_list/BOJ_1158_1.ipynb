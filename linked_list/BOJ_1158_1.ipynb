{
  "nbformat": 4,
  "nbformat_minor": 0,
  "metadata": {
    "colab": {
      "provenance": []
    },
    "kernelspec": {
      "name": "python3",
      "display_name": "Python 3"
    },
    "language_info": {
      "name": "python"
    }
  },
  "cells": [
    {
      "cell_type": "code",
      "execution_count": null,
      "metadata": {
        "id": "8UKcDd8m6bE_"
      },
      "outputs": [],
      "source": [
        "# 1≤ K ≤ N ≤ 5000\n",
        "class Node:\n",
        "  def __init__(self, item:int, next_node:'Node'):\n",
        "    self.item = item\n",
        "    self.next = next_node\n",
        "\n",
        "class CircularLinkedList:\n",
        "  def __init__(self, n:int):\n",
        "    self.tail = None\n",
        "    self.length = 0\n",
        "    self.__compose(n)\n",
        "\n",
        "  def __compose(self, n:int):\n",
        "    first_node = Node(1, None)\n",
        "    first_node.next = first_node\n",
        "    self.tail = first_node\n",
        "    for i in range(2, n + 1):\n",
        "      self.tail.next = Node(i, self.tail.next)\n",
        "      self.tail = self.tail.next\n",
        "    self.length = n\n",
        "\n",
        "  def remove_next(self, curr_node:'Node') -> int:\n",
        "    if curr_node.next == self.tail:\n",
        "      self.tail = curr_node\n",
        "    remove_item = curr_node.next.item\n",
        "    curr_node.next = curr_node.next.next\n",
        "    self.length -= 1\n",
        "    return remove_item\n",
        "\n",
        "  # def show(self):\n",
        "  #   curr_node = self.tail.next\n",
        "  #   for i in range(self.length):\n",
        "  #     print(curr_node.item)\n",
        "  #     curr_node = curr_node.next\n",
        "\n",
        "  def execute_yose(self, k:int):\n",
        "    results = []\n",
        "    curr_node = self.tail\n",
        "    while self.length != 1:\n",
        "      for i in range(1, k):\n",
        "        curr_node = curr_node.next\n",
        "      results.append(self.remove_next(curr_node))\n",
        "\n",
        "    print('<', end='')\n",
        "    for i in results:\n",
        "      print(i, end= ', ')\n",
        "    print(self.tail.item, '>', sep='')\n",
        "\n",
        "\n",
        "n, k = map(int, input().split())\n",
        "cll = CircularLinkedList(n)\n",
        "cll.execute_yose(k)"
      ]
    }
  ]
}