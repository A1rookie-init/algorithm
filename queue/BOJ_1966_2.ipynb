{
  "nbformat": 4,
  "nbformat_minor": 0,
  "metadata": {
    "colab": {
      "provenance": []
    },
    "kernelspec": {
      "name": "python3",
      "display_name": "Python 3"
    },
    "language_info": {
      "name": "python"
    }
  },
  "cells": [
    {
      "cell_type": "code",
      "source": [
        "# 제출 1 (오답)\n",
        "# 문제에서 특정 문구를 놓쳐서 문제를 잘못이해함.\n",
        "# 결국 '큐' 초점으로 풀어야하는데 정렬문제로 풀어버림..\n",
        "\n",
        "def print_order(docs_prior:list, docs_idx:int) -> int:\n",
        "  docs_idx_prior = [(idx, value) for idx, value in enumerate(docs_prior)]\n",
        "  sorted_docs = sorted(docs_idx_prior, key=lambda x: (-x[1], x[0]))\n",
        "  for idx, tup in enumerate(sorted_docs):\n",
        "    if tup[0] == docs_idx:\n",
        "      return idx + 1\n",
        "\n",
        "test_results = []\n",
        "test_num = int(input())\n",
        "for i in range(test_num):\n",
        "  _, m = map(int, input().split())\n",
        "  docs_prior = list(map(int, input().split()))\n",
        "  test_results.append(print_order(docs_prior, m))\n",
        "\n",
        "for i in test_results:\n",
        "  print(i)\n"
      ],
      "metadata": {
        "colab": {
          "base_uri": "https://localhost:8080/"
        },
        "id": "UOl6Z-W8j6tE",
        "outputId": "047e8bd0-f445-49cb-8421-84907cd92042"
      },
      "execution_count": 24,
      "outputs": [
        {
          "output_type": "stream",
          "name": "stdout",
          "text": [
            "3\n",
            "1 0\n",
            "5\n",
            "4 2\n",
            "1 2 3 4\n",
            "6 0 \n",
            "1 1 9 1 1 1\n",
            "1\n",
            "2\n",
            "2\n"
          ]
        }
      ]
    },
    {
      "cell_type": "code",
      "source": [
        "# 제출2 (정답)\n",
        "\n",
        "def get_doc_order(docs_prior_list:list, doc_idx:int) -> int:\n",
        "  docs_idx_list= list(range(0, len(docs_prior_list)))\n",
        "  print_orders = {}\n",
        "\n",
        "  print_th = 1\n",
        "  while docs_prior_list:\n",
        "    if docs_prior_list[0] >= max(docs_prior_list):\n",
        "      docs_prior_list.pop(0)\n",
        "      print_orders[docs_idx_list.pop(0)] = print_th\n",
        "      print_th += 1\n",
        "    else:\n",
        "      docs_prior_list.append(docs_prior_list.pop(0))\n",
        "      docs_idx_list.append(docs_idx_list.pop(0))\n",
        "    doc_order = print_orders.get(doc_idx)\n",
        "    if doc_order:\n",
        "      return doc_order\n",
        "  return\n",
        "\n",
        "test_results = []\n",
        "test_num = int(input())\n",
        "for i in range(test_num):\n",
        "  _, m = map(int, input().split())\n",
        "  docs_prior_list = list(map(int, input().split()))\n",
        "  test_results.append(get_doc_order(docs_prior_list, m))\n",
        "\n",
        "for i in test_results:\n",
        "  print(i)"
      ],
      "metadata": {
        "colab": {
          "base_uri": "https://localhost:8080/"
        },
        "id": "C68OYJe-1K12",
        "outputId": "b6c667a1-7159-4dbf-f472-62bcd980ca7a"
      },
      "execution_count": 36,
      "outputs": [
        {
          "output_type": "stream",
          "name": "stdout",
          "text": [
            "3\n",
            "1 0\n",
            "5\n",
            "4 2\n",
            "1 2 3 4\n",
            "6 0\n",
            "1 1 9 1 1 1\n",
            "1\n",
            "2\n",
            "5\n"
          ]
        }
      ]
    }
  ]
}