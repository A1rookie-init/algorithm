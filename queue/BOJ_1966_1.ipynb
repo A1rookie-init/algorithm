{
  "nbformat": 4,
  "nbformat_minor": 0,
  "metadata": {
    "colab": {
      "provenance": []
    },
    "kernelspec": {
      "name": "python3",
      "display_name": "Python 3"
    },
    "language_info": {
      "name": "python"
    }
  },
  "cells": [
    {
      "cell_type": "code",
      "execution_count": null,
      "metadata": {
        "id": "12Ak3ccw-mCF"
      },
      "outputs": [],
      "source": [
        "def get_doc_order(docs_prior_list:list, doc_idx:int) -> int:\n",
        "  docs_idx_list= list(range(0, len(docs_prior_list)))\n",
        "  print_orders = {}\n",
        "\n",
        "  print_th = 1\n",
        "  while docs_prior_list:\n",
        "    if docs_prior_list[0] >= max(docs_prior_list):\n",
        "      docs_prior_list.pop(0)\n",
        "      print_orders[docs_idx_list.pop(0)] = print_th\n",
        "      print_th += 1\n",
        "    else:\n",
        "      docs_prior_list.append(docs_prior_list.pop(0))\n",
        "      docs_idx_list.append(docs_idx_list.pop(0))\n",
        "    doc_order = print_orders.get(doc_idx)\n",
        "    if doc_order:\n",
        "      return doc_order\n",
        "  return\n",
        "\n",
        "test_results = []\n",
        "test_num = int(input())\n",
        "for i in range(test_num):\n",
        "  _, m = map(int, input().split())\n",
        "  docs_prior_list = list(map(int, input().split()))\n",
        "  test_results.append(get_doc_order(docs_prior_list, m))\n",
        "\n",
        "for i in test_results:\n",
        "  print(i)"
      ]
    }
  ]
}